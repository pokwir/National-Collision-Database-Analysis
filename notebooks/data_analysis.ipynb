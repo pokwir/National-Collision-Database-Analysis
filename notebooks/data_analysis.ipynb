{
 "cells": [
  {
   "cell_type": "code",
   "execution_count": 1,
   "metadata": {},
   "outputs": [],
   "source": [
    "import pandas as pd\n",
    "import numpy as np\n",
    "import matplotlib.pyplot as plt\n",
    "import seaborn as sns"
   ]
  },
  {
   "cell_type": "code",
   "execution_count": 87,
   "metadata": {},
   "outputs": [
    {
     "data": {
      "text/html": [
       "<div>\n",
       "<style scoped>\n",
       "    .dataframe tbody tr th:only-of-type {\n",
       "        vertical-align: middle;\n",
       "    }\n",
       "\n",
       "    .dataframe tbody tr th {\n",
       "        vertical-align: top;\n",
       "    }\n",
       "\n",
       "    .dataframe thead th {\n",
       "        text-align: right;\n",
       "    }\n",
       "</style>\n",
       "<table border=\"1\" class=\"dataframe\">\n",
       "  <thead>\n",
       "    <tr style=\"text-align: right;\">\n",
       "      <th></th>\n",
       "      <th>C_YEAR</th>\n",
       "      <th>C_MNTH</th>\n",
       "      <th>C_WDAY</th>\n",
       "      <th>C_HOUR</th>\n",
       "      <th>C_SEV</th>\n",
       "      <th>C_VEHS</th>\n",
       "      <th>C_CONF</th>\n",
       "      <th>C_RCFG</th>\n",
       "      <th>C_WTHR</th>\n",
       "      <th>C_RSUR</th>\n",
       "      <th>...</th>\n",
       "      <th>V_TYPE</th>\n",
       "      <th>V_YEAR</th>\n",
       "      <th>P_ID</th>\n",
       "      <th>P_SEX</th>\n",
       "      <th>P_AGE</th>\n",
       "      <th>P_PSN</th>\n",
       "      <th>P_ISEV</th>\n",
       "      <th>P_SAFE</th>\n",
       "      <th>P_USER</th>\n",
       "      <th>C_CASE</th>\n",
       "    </tr>\n",
       "  </thead>\n",
       "  <tbody>\n",
       "    <tr>\n",
       "      <th>0</th>\n",
       "      <td>2017</td>\n",
       "      <td>1</td>\n",
       "      <td>1</td>\n",
       "      <td>10</td>\n",
       "      <td>2</td>\n",
       "      <td>1</td>\n",
       "      <td>2</td>\n",
       "      <td>3</td>\n",
       "      <td>1</td>\n",
       "      <td>3</td>\n",
       "      <td>...</td>\n",
       "      <td>1</td>\n",
       "      <td>UUUU</td>\n",
       "      <td>1</td>\n",
       "      <td>M</td>\n",
       "      <td>75</td>\n",
       "      <td>11</td>\n",
       "      <td>2</td>\n",
       "      <td>NN</td>\n",
       "      <td>1</td>\n",
       "      <td>2456013</td>\n",
       "    </tr>\n",
       "    <tr>\n",
       "      <th>1</th>\n",
       "      <td>2017</td>\n",
       "      <td>1</td>\n",
       "      <td>1</td>\n",
       "      <td>12</td>\n",
       "      <td>2</td>\n",
       "      <td>1</td>\n",
       "      <td>4</td>\n",
       "      <td>UU</td>\n",
       "      <td>1</td>\n",
       "      <td>5</td>\n",
       "      <td>...</td>\n",
       "      <td>1</td>\n",
       "      <td>UUUU</td>\n",
       "      <td>1</td>\n",
       "      <td>F</td>\n",
       "      <td>21</td>\n",
       "      <td>11</td>\n",
       "      <td>2</td>\n",
       "      <td>2</td>\n",
       "      <td>1</td>\n",
       "      <td>2456022</td>\n",
       "    </tr>\n",
       "    <tr>\n",
       "      <th>2</th>\n",
       "      <td>2017</td>\n",
       "      <td>1</td>\n",
       "      <td>1</td>\n",
       "      <td>0</td>\n",
       "      <td>2</td>\n",
       "      <td>1</td>\n",
       "      <td>3</td>\n",
       "      <td>UU</td>\n",
       "      <td>7</td>\n",
       "      <td>3</td>\n",
       "      <td>...</td>\n",
       "      <td>1</td>\n",
       "      <td>UUUU</td>\n",
       "      <td>1</td>\n",
       "      <td>F</td>\n",
       "      <td>34</td>\n",
       "      <td>11</td>\n",
       "      <td>2</td>\n",
       "      <td>2</td>\n",
       "      <td>1</td>\n",
       "      <td>2456061</td>\n",
       "    </tr>\n",
       "    <tr>\n",
       "      <th>3</th>\n",
       "      <td>2017</td>\n",
       "      <td>1</td>\n",
       "      <td>1</td>\n",
       "      <td>17</td>\n",
       "      <td>2</td>\n",
       "      <td>2</td>\n",
       "      <td>21</td>\n",
       "      <td>UU</td>\n",
       "      <td>1</td>\n",
       "      <td>1</td>\n",
       "      <td>...</td>\n",
       "      <td>1</td>\n",
       "      <td>UUUU</td>\n",
       "      <td>1</td>\n",
       "      <td>F</td>\n",
       "      <td>50</td>\n",
       "      <td>11</td>\n",
       "      <td>2</td>\n",
       "      <td>2</td>\n",
       "      <td>1</td>\n",
       "      <td>2456167</td>\n",
       "    </tr>\n",
       "    <tr>\n",
       "      <th>4</th>\n",
       "      <td>2017</td>\n",
       "      <td>1</td>\n",
       "      <td>1</td>\n",
       "      <td>17</td>\n",
       "      <td>2</td>\n",
       "      <td>2</td>\n",
       "      <td>21</td>\n",
       "      <td>UU</td>\n",
       "      <td>1</td>\n",
       "      <td>1</td>\n",
       "      <td>...</td>\n",
       "      <td>1</td>\n",
       "      <td>UUUU</td>\n",
       "      <td>1</td>\n",
       "      <td>M</td>\n",
       "      <td>63</td>\n",
       "      <td>11</td>\n",
       "      <td>1</td>\n",
       "      <td>NN</td>\n",
       "      <td>1</td>\n",
       "      <td>2456167</td>\n",
       "    </tr>\n",
       "  </tbody>\n",
       "</table>\n",
       "<p>5 rows × 23 columns</p>\n",
       "</div>"
      ],
      "text/plain": [
       "   C_YEAR C_MNTH C_WDAY C_HOUR  C_SEV C_VEHS C_CONF C_RCFG C_WTHR C_RSUR  ...  \\\n",
       "0    2017      1      1     10      2      1      2      3      1      3  ...   \n",
       "1    2017      1      1     12      2      1      4     UU      1      5  ...   \n",
       "2    2017      1      1      0      2      1      3     UU      7      3  ...   \n",
       "3    2017      1      1     17      2      2     21     UU      1      1  ...   \n",
       "4    2017      1      1     17      2      2     21     UU      1      1  ...   \n",
       "\n",
       "  V_TYPE V_YEAR P_ID P_SEX P_AGE P_PSN P_ISEV P_SAFE P_USER   C_CASE  \n",
       "0      1   UUUU    1     M    75    11      2     NN      1  2456013  \n",
       "1      1   UUUU    1     F    21    11      2      2      1  2456022  \n",
       "2      1   UUUU    1     F    34    11      2      2      1  2456061  \n",
       "3      1   UUUU    1     F    50    11      2      2      1  2456167  \n",
       "4      1   UUUU    1     M    63    11      1     NN      1  2456167  \n",
       "\n",
       "[5 rows x 23 columns]"
      ]
     },
     "execution_count": 87,
     "metadata": {},
     "output_type": "execute_result"
    }
   ],
   "source": [
    "data = '/Users/patrick/Desktop/Lighthouse_labs/Data Projects/National-Collision-Database-Analysis/dataset/y_2017_en.xlsx'\n",
    "data = pd.read_excel(data)\n",
    "data.head()"
   ]
  },
  {
   "cell_type": "code",
   "execution_count": 88,
   "metadata": {},
   "outputs": [
    {
     "data": {
      "text/html": [
       "<div>\n",
       "<style scoped>\n",
       "    .dataframe tbody tr th:only-of-type {\n",
       "        vertical-align: middle;\n",
       "    }\n",
       "\n",
       "    .dataframe tbody tr th {\n",
       "        vertical-align: top;\n",
       "    }\n",
       "\n",
       "    .dataframe thead th {\n",
       "        text-align: right;\n",
       "    }\n",
       "</style>\n",
       "<table border=\"1\" class=\"dataframe\">\n",
       "  <thead>\n",
       "    <tr style=\"text-align: right;\">\n",
       "      <th></th>\n",
       "      <th>C_YEAR</th>\n",
       "      <th>C_SEV</th>\n",
       "      <th>C_CASE</th>\n",
       "    </tr>\n",
       "  </thead>\n",
       "  <tbody>\n",
       "    <tr>\n",
       "      <th>count</th>\n",
       "      <td>289823.0</td>\n",
       "      <td>289823.000000</td>\n",
       "      <td>2.898230e+05</td>\n",
       "    </tr>\n",
       "    <tr>\n",
       "      <th>mean</th>\n",
       "      <td>2017.0</td>\n",
       "      <td>1.984528</td>\n",
       "      <td>2.512741e+06</td>\n",
       "    </tr>\n",
       "    <tr>\n",
       "      <th>std</th>\n",
       "      <td>0.0</td>\n",
       "      <td>0.123419</td>\n",
       "      <td>3.293930e+04</td>\n",
       "    </tr>\n",
       "    <tr>\n",
       "      <th>min</th>\n",
       "      <td>2017.0</td>\n",
       "      <td>1.000000</td>\n",
       "      <td>2.455891e+06</td>\n",
       "    </tr>\n",
       "    <tr>\n",
       "      <th>25%</th>\n",
       "      <td>2017.0</td>\n",
       "      <td>2.000000</td>\n",
       "      <td>2.484745e+06</td>\n",
       "    </tr>\n",
       "    <tr>\n",
       "      <th>50%</th>\n",
       "      <td>2017.0</td>\n",
       "      <td>2.000000</td>\n",
       "      <td>2.512108e+06</td>\n",
       "    </tr>\n",
       "    <tr>\n",
       "      <th>75%</th>\n",
       "      <td>2017.0</td>\n",
       "      <td>2.000000</td>\n",
       "      <td>2.541550e+06</td>\n",
       "    </tr>\n",
       "    <tr>\n",
       "      <th>max</th>\n",
       "      <td>2017.0</td>\n",
       "      <td>2.000000</td>\n",
       "      <td>2.570302e+06</td>\n",
       "    </tr>\n",
       "  </tbody>\n",
       "</table>\n",
       "</div>"
      ],
      "text/plain": [
       "         C_YEAR          C_SEV        C_CASE\n",
       "count  289823.0  289823.000000  2.898230e+05\n",
       "mean     2017.0       1.984528  2.512741e+06\n",
       "std         0.0       0.123419  3.293930e+04\n",
       "min      2017.0       1.000000  2.455891e+06\n",
       "25%      2017.0       2.000000  2.484745e+06\n",
       "50%      2017.0       2.000000  2.512108e+06\n",
       "75%      2017.0       2.000000  2.541550e+06\n",
       "max      2017.0       2.000000  2.570302e+06"
      ]
     },
     "execution_count": 88,
     "metadata": {},
     "output_type": "execute_result"
    }
   ],
   "source": [
    "data.describe()"
   ]
  },
  {
   "attachments": {},
   "cell_type": "markdown",
   "metadata": {},
   "source": [
    "**Question 2: Using Excel (Pivot Tables/Charts), or any other analytical tool of your choice, generate reports/charts to answer the following questions:**\n",
    "\n",
    "What age range and which sex are more likely to be associated with a collision?\\\n",
    "What time(s) of days are most associated with a relatively high fatality rate?\\\n",
    "What type(s) of weather are most associated with a relatively high fatality rate?\\\n",
    "What is the effect of using a Safety device on the fatality rate?\\\n",
    "Use the previous charts/reports and perform additional ad hoc analysis of the dataset to outline the key contributing factors to Canadian collisions."
   ]
  },
  {
   "attachments": {},
   "cell_type": "markdown",
   "metadata": {},
   "source": [
    "**2.1 What age range and which sex are more likely to be associated with a collision?\\**"
   ]
  },
  {
   "cell_type": "code",
   "execution_count": 89,
   "metadata": {},
   "outputs": [],
   "source": [
    "import copy\n",
    "df = copy.deepcopy(data)"
   ]
  },
  {
   "cell_type": "code",
   "execution_count": 90,
   "metadata": {},
   "outputs": [
    {
     "data": {
      "text/plain": [
       "array(['M', 'F', 'U', 'N'], dtype=object)"
      ]
     },
     "execution_count": 90,
     "metadata": {},
     "output_type": "execute_result"
    }
   ],
   "source": [
    "df['P_SEX'].unique()"
   ]
  },
  {
   "cell_type": "code",
   "execution_count": 91,
   "metadata": {},
   "outputs": [
    {
     "data": {
      "text/plain": [
       "array([75, 21, 34, 50, 63, 26, 20, 80, 35, 37, 45, 32, 38, 60, 25, 19, 27,\n",
       "       43, 72, 55, 31, 76, 'UU', 51, 46, 42, 58, 59, 56, 41, 36, 48, 39,\n",
       "       22, 52, 53, 33, 18, 61, 40, 29, 3, 73, 69, 30, 44, 24, 54, 65, 47,\n",
       "       70, 71, 13, 23, 17, 74, 15, 66, 88, 57, 49, 67, 14, 64, 28, 68, 77,\n",
       "       62, 1, 8, 2, 11, 9, 16, 89, 85, 84, 4, 6, 81, 12, 5, 7, 78, 79, 93,\n",
       "       86, 10, 91, 90, 83, 92, 82, 87, 'NN', 99, 98, 97, 96, 94, 95],\n",
       "      dtype=object)"
      ]
     },
     "execution_count": 91,
     "metadata": {},
     "output_type": "execute_result"
    }
   ],
   "source": [
    "df['P_AGE'].unique()"
   ]
  },
  {
   "cell_type": "code",
   "execution_count": 93,
   "metadata": {},
   "outputs": [
    {
     "data": {
      "text/plain": [
       "array([2, 1])"
      ]
     },
     "execution_count": 93,
     "metadata": {},
     "output_type": "execute_result"
    }
   ],
   "source": [
    "df['C_SEV'].unique()"
   ]
  },
  {
   "attachments": {},
   "cell_type": "markdown",
   "metadata": {},
   "source": [
    "Classification structure\n",
    "Classification of age group - Classification structure\\\n",
    "Code\tCategory\\\n",
    "1\t15 to 24 years\\\n",
    "2\t25 - 34 years\\\n",
    "3\t35 - 44 years\\\n",
    "4\t45 - 54 years\\\n",
    "5\t55 - 64 years\\\n",
    "6\t65 - 74 years\\\n",
    "7\t75 years and over\\\n",
    "\n",
    "source: https://www23.statcan.gc.ca/imdb/p3VD.pl?Function=getVD&TVD=252430"
   ]
  },
  {
   "cell_type": "code",
   "execution_count": 94,
   "metadata": {},
   "outputs": [
    {
     "name": "stdout",
     "output_type": "stream",
     "text": [
      "The age range and sex more likely to be associated with a collision:\n",
      "Age Range: 15-24, Sex: Female\n",
      "Collision Proportion: 22.15%\n"
     ]
    }
   ],
   "source": [
    "# Filter out rows with 'Unknown' values in 'P_SEX' and convert non-numeric 'P_AGE' values to NaN\n",
    "df = df[df['P_SEX'] != 'U']\n",
    "df = df[df['P_SEX']!= 'N']\n",
    "df = df[df['P_AGE']!= 'UU']\n",
    "df = df[df['P_AGE']!= 'NN']\n",
    "df['P_AGE'] = pd.to_numeric(df['P_AGE'], errors='coerce')\n",
    "\n",
    "# Filter rows where collision severity is either 1 or 2\n",
    "collision_df = df[df['C_SEV'].isin([1, 2])]\n",
    "\n",
    "\n",
    "# Filter rows where collision severity is either 1 or 2\n",
    "collision_df = df[df['C_SEV'].isin([1, 2])]\n",
    "# Define Sex Labels for each P_SEX value and replace in df\n",
    "collision_df['P_SEX'] = collision_df['P_SEX'].replace({'M': 'Male', 'F': 'Female'})\n",
    "# Define Severity Labels for each C_SEV value and replace in collision_df\n",
    "collision_df['C_SEV'] = collision_df['C_SEV'].replace({'1': 'At least one fatality', '2': 'Non-Fatal'})\n",
    "\n",
    "# Define age ranges and corresponding labels\n",
    "age_ranges = [(0, 14), (15, 24), (25, 34), (35, 44), (45, 54), (55, 64), (65, 74), (75, 100)]\n",
    "age_range_labels = ['0-14', '15-24', '25-34', '35-44', '45-54', '55-64', '65-74', '75+']\n",
    "\n",
    "# Calculate total collisions for each age range and sex combination\n",
    "collision_counts = collision_df.groupby(['P_SEX', pd.cut(collision_df['P_AGE'], [age[0] for age in age_ranges] + [age_ranges[-1][1]], labels=age_range_labels)]).size().unstack().fillna(0)\n",
    "\n",
    "# Calculate proportions of collisions for each age range and sex combination\n",
    "collision_proportions = collision_counts.div(collision_counts.sum(axis=1), axis=0)\n",
    "\n",
    "# Find the age range and sex with the highest collision proportion\n",
    "max_collision_proportion = collision_proportions.stack().max()\n",
    "max_collision_idx = collision_proportions.stack().idxmax()\n",
    "\n",
    "print(f\"The age range and sex more likely to be associated with a collision:\")\n",
    "print(f\"Age Range: {max_collision_idx[1]}, Sex: {max_collision_idx[0]}\")\n",
    "print(f\"Collision Proportion: {max_collision_proportion:.2%}\")\n",
    "\n"
   ]
  },
  {
   "cell_type": "code",
   "execution_count": 95,
   "metadata": {},
   "outputs": [
    {
     "data": {
      "text/html": [
       "\n",
       "            <div id=\"FnTVU2\"></div>\n",
       "            <script type=\"text/javascript\" data-lets-plot-script=\"library\">\n",
       "                if(!window.letsPlotCallQueue) {\n",
       "                    window.letsPlotCallQueue = [];\n",
       "                }; \n",
       "                window.letsPlotCall = function(f) {\n",
       "                    window.letsPlotCallQueue.push(f);\n",
       "                };\n",
       "                (function() {\n",
       "                    var script = document.createElement(\"script\");\n",
       "                    script.type = \"text/javascript\";\n",
       "                    script.src = \"https://cdn.jsdelivr.net/gh/JetBrains/lets-plot@v3.2.0/js-package/distr/lets-plot.min.js\";\n",
       "                    script.onload = function() {\n",
       "                        window.letsPlotCall = function(f) {f();};\n",
       "                        window.letsPlotCallQueue.forEach(function(f) {f();});\n",
       "                        window.letsPlotCallQueue = [];\n",
       "                        \n",
       "                    };\n",
       "                    script.onerror = function(event) {\n",
       "                        window.letsPlotCall = function(f) {};    // noop\n",
       "                        window.letsPlotCallQueue = [];\n",
       "                        var div = document.createElement(\"div\");\n",
       "                        div.style.color = 'darkred';\n",
       "                        div.textContent = 'Error loading Lets-Plot JS';\n",
       "                        document.getElementById(\"FnTVU2\").appendChild(div);\n",
       "                    };\n",
       "                    var e = document.getElementById(\"FnTVU2\");\n",
       "                    e.appendChild(script);\n",
       "                })()\n",
       "            </script>\n",
       "            "
      ]
     },
     "metadata": {},
     "output_type": "display_data"
    }
   ],
   "source": [
    "from lets_plot import *\n",
    "LetsPlot.setup_html()"
   ]
  },
  {
   "cell_type": "code",
   "execution_count": 96,
   "metadata": {},
   "outputs": [
    {
     "data": {
      "text/html": [
       "<div>\n",
       "<style scoped>\n",
       "    .dataframe tbody tr th:only-of-type {\n",
       "        vertical-align: middle;\n",
       "    }\n",
       "\n",
       "    .dataframe tbody tr th {\n",
       "        vertical-align: top;\n",
       "    }\n",
       "\n",
       "    .dataframe thead th {\n",
       "        text-align: right;\n",
       "    }\n",
       "</style>\n",
       "<table border=\"1\" class=\"dataframe\">\n",
       "  <thead>\n",
       "    <tr style=\"text-align: right;\">\n",
       "      <th>P_SEX</th>\n",
       "      <th>P_AGE</th>\n",
       "      <th>Female</th>\n",
       "      <th>Male</th>\n",
       "    </tr>\n",
       "  </thead>\n",
       "  <tbody>\n",
       "    <tr>\n",
       "      <th>0</th>\n",
       "      <td>0-14</td>\n",
       "      <td>0.081847</td>\n",
       "      <td>0.071099</td>\n",
       "    </tr>\n",
       "    <tr>\n",
       "      <th>1</th>\n",
       "      <td>15-24</td>\n",
       "      <td>0.221457</td>\n",
       "      <td>0.213721</td>\n",
       "    </tr>\n",
       "    <tr>\n",
       "      <th>2</th>\n",
       "      <td>25-34</td>\n",
       "      <td>0.183045</td>\n",
       "      <td>0.185339</td>\n",
       "    </tr>\n",
       "    <tr>\n",
       "      <th>3</th>\n",
       "      <td>35-44</td>\n",
       "      <td>0.155892</td>\n",
       "      <td>0.153019</td>\n",
       "    </tr>\n",
       "    <tr>\n",
       "      <th>4</th>\n",
       "      <td>45-54</td>\n",
       "      <td>0.145812</td>\n",
       "      <td>0.153636</td>\n",
       "    </tr>\n",
       "    <tr>\n",
       "      <th>5</th>\n",
       "      <td>55-64</td>\n",
       "      <td>0.110213</td>\n",
       "      <td>0.122564</td>\n",
       "    </tr>\n",
       "    <tr>\n",
       "      <th>6</th>\n",
       "      <td>65-74</td>\n",
       "      <td>0.063627</td>\n",
       "      <td>0.063949</td>\n",
       "    </tr>\n",
       "    <tr>\n",
       "      <th>7</th>\n",
       "      <td>75+</td>\n",
       "      <td>0.038107</td>\n",
       "      <td>0.036673</td>\n",
       "    </tr>\n",
       "  </tbody>\n",
       "</table>\n",
       "</div>"
      ],
      "text/plain": [
       "P_SEX  P_AGE    Female      Male\n",
       "0       0-14  0.081847  0.071099\n",
       "1      15-24  0.221457  0.213721\n",
       "2      25-34  0.183045  0.185339\n",
       "3      35-44  0.155892  0.153019\n",
       "4      45-54  0.145812  0.153636\n",
       "5      55-64  0.110213  0.122564\n",
       "6      65-74  0.063627  0.063949\n",
       "7        75+  0.038107  0.036673"
      ]
     },
     "execution_count": 96,
     "metadata": {},
     "output_type": "execute_result"
    }
   ],
   "source": [
    "# get data to plot \n",
    "plot_data = collision_proportions.transpose().reset_index(level=0)\n",
    "plot_data"
   ]
  },
  {
   "cell_type": "code",
   "execution_count": 131,
   "metadata": {},
   "outputs": [
    {
     "data": {
      "text/html": [
       "   <div id=\"YiYBM3\"></div>\n",
       "   <script type=\"text/javascript\" data-lets-plot-script=\"plot\">\n",
       "       (function() {\n",
       "           var plotSpec={\n",
       "\"data\":{\n",
       "\"P_AGE\":[\"0-14\",\"15-24\",\"25-34\",\"35-44\",\"45-54\",\"55-64\",\"65-74\",\"75+\"],\n",
       "\"Female\":[0.08184727560665798,0.22145696893713193,0.1830449199095993,0.15589171711839522,0.14581236905920586,0.11021296953100514,0.06362691565350798,0.03810686418449661],\n",
       "\"Male\":[0.0710993942565052,0.21372079451007225,0.18533872666411758,0.15301899069583358,0.1536361379995036,0.12256411288429159,0.06394853528137222,0.03667330770830399]\n",
       "},\n",
       "\"mapping\":{\n",
       "\"x\":\"P_AGE\",\n",
       "\"y\":\"Female\"\n",
       "},\n",
       "\"data_meta\":{\n",
       "},\n",
       "\"theme\":{\n",
       "\"name\":\"classic\",\n",
       "\"flavor\":\"high_contrast_dark\"\n",
       "},\n",
       "\"kind\":\"plot\",\n",
       "\"scales\":[],\n",
       "\"layers\":[{\n",
       "\"geom\":\"lollipop\",\n",
       "\"stat\":\"identity\",\n",
       "\"mapping\":{\n",
       "},\n",
       "\"data_meta\":{\n",
       "},\n",
       "\"shape\":1.0,\n",
       "\"color\":\"red\",\n",
       "\"size\":3.0,\n",
       "\"stroke\":2.0,\n",
       "\"linewidth\":1.0,\n",
       "\"data\":{\n",
       "}\n",
       "},{\n",
       "\"geom\":\"lollipop\",\n",
       "\"stat\":\"identity\",\n",
       "\"mapping\":{\n",
       "\"x\":\"P_AGE\",\n",
       "\"y\":\"Male\"\n",
       "},\n",
       "\"position\":\"dodge\",\n",
       "\"data_meta\":{\n",
       "},\n",
       "\"width\":5.0,\n",
       "\"color\":\"yellow\",\n",
       "\"linewidth\":0.3,\n",
       "\"offset\":10.0,\n",
       "\"data\":{\n",
       "}\n",
       "}],\n",
       "\"metainfo_list\":[]\n",
       "};\n",
       "           var plotContainer = document.getElementById(\"YiYBM3\");\n",
       "           window.letsPlotCall(function() {{\n",
       "               LetsPlot.buildPlotFromProcessedSpecs(plotSpec, -1, -1, plotContainer);\n",
       "           }});\n",
       "       })();    \n",
       "   </script>"
      ],
      "text/plain": [
       "<lets_plot.plot.core.PlotSpec at 0x7f89e21bc1f0>"
      ]
     },
     "execution_count": 131,
     "metadata": {},
     "output_type": "execute_result"
    }
   ],
   "source": [
    "# plot plot_data using letsplot\n",
    "\n",
    "# Create the ggplot visualization\n",
    "p = ggplot(plot_data, aes(x='P_AGE', y='Female')) + geom_lollipop(stat='identity', shape = 1, color = 'red', size = 3, stroke = 2, linewidth=1) + \\\n",
    "    geom_lollipop(aes(x='P_AGE', y='Male'), stat='identity', position='dodge', width=5, color = 'yellow', linewidth=0.3, offset= 10) + \\\n",
    "        theme_classic() + \\\n",
    "            flavor_high_contrast_dark()\n",
    "# Display the plot\n",
    "p"
   ]
  },
  {
   "attachments": {},
   "cell_type": "markdown",
   "metadata": {},
   "source": [
    "2.2 What time(s) of days are most associated with a relatively high fatality rate?"
   ]
  },
  {
   "cell_type": "code",
   "execution_count": 132,
   "metadata": {},
   "outputs": [],
   "source": [
    "df = copy.deepcopy(data)"
   ]
  },
  {
   "cell_type": "code",
   "execution_count": 134,
   "metadata": {},
   "outputs": [
    {
     "name": "stdout",
     "output_type": "stream",
     "text": [
      "Time of Day Most Associated with High Fatality Rate:\n",
      "Hour: 3.0, Fatality Rate: 2.82%\n"
     ]
    },
    {
     "data": {
      "image/png": "[encoded data removed]",
      "text/plain": [
       "<Figure size 640x480 with 1 Axes>"
      ]
     },
     "metadata": {},
     "output_type": "display_data"
    }
   ],
   "source": [
    "# Convert 'C_HOUR' and 'P_ISEV' columns to numeric\n",
    "df['C_HOUR'] = pd.to_numeric(df['C_HOUR'], errors='coerce')\n",
    "df['P_ISEV'] = pd.to_numeric(df['P_ISEV'], errors='coerce')\n",
    "\n",
    "# Filter out non-numeric values in 'C_HOUR' and 'P_ISEV'\n",
    "df = df.dropna(subset=['C_HOUR', 'P_ISEV'])\n",
    "\n",
    "# Filter rows where 'P_ISEV' indicates fatality (3)\n",
    "fatality_df = df[df['P_ISEV'] == 3]\n",
    "\n",
    "# Group by 'C_HOUR' and calculate the fatality rate for each hour\n",
    "fatality_rate_by_hour = fatality_df.groupby('C_HOUR').size() / df.groupby('C_HOUR').size()\n",
    "\n",
    "# Plot the fatality rate by hour\n",
    "plt.bar(fatality_rate_by_hour.index, fatality_rate_by_hour.values)\n",
    "plt.xlabel('Time of Day (Hour)')\n",
    "plt.ylabel('Fatality Rate')\n",
    "plt.title('Fatality Rate by Time of Day')\n",
    "plt.xticks(fatality_rate_by_hour.index)\n",
    "\n",
    "# Find the hour with the highest fatality rate\n",
    "max_fatality_rate_hour = fatality_rate_by_hour.idxmax()\n",
    "max_fatality_rate = fatality_rate_by_hour.max()\n",
    "\n",
    "print(f\"Time of Day Most Associated with High Fatality Rate:\")\n",
    "print(f\"Hour: {max_fatality_rate_hour}, Fatality Rate: {max_fatality_rate:.2%}\")\n",
    "\n",
    "plt.show()"
   ]
  },
  {
   "cell_type": "code",
   "execution_count": 148,
   "metadata": {},
   "outputs": [
    {
     "data": {
      "text/plain": [
       "C_HOUR\n",
       "0.0     0.019541\n",
       "1.0     0.021089\n",
       "2.0     0.018909\n",
       "3.0     0.028208\n",
       "4.0     0.020680\n",
       "5.0     0.018479\n",
       "6.0     0.011550\n",
       "7.0     0.006664\n",
       "8.0     0.003976\n",
       "9.0     0.005108\n",
       "10.0    0.006721\n",
       "11.0    0.005594\n",
       "12.0    0.005919\n",
       "13.0    0.005488\n",
       "14.0    0.005276\n",
       "15.0    0.004784\n",
       "16.0    0.004805\n",
       "17.0    0.003947\n",
       "18.0    0.006483\n",
       "19.0    0.007749\n",
       "20.0    0.007419\n",
       "21.0    0.009256\n",
       "22.0    0.010598\n",
       "23.0    0.013012\n",
       "dtype: float64"
      ]
     },
     "execution_count": 148,
     "metadata": {},
     "output_type": "execute_result"
    }
   ],
   "source": [
    "fatality_rate_by_hour"
   ]
  },
  {
   "cell_type": "code",
   "execution_count": 159,
   "metadata": {},
   "outputs": [
    {
     "data": {
      "text/html": [
       "<div>\n",
       "<style scoped>\n",
       "    .dataframe tbody tr th:only-of-type {\n",
       "        vertical-align: middle;\n",
       "    }\n",
       "\n",
       "    .dataframe tbody tr th {\n",
       "        vertical-align: top;\n",
       "    }\n",
       "\n",
       "    .dataframe thead th {\n",
       "        text-align: right;\n",
       "    }\n",
       "</style>\n",
       "<table border=\"1\" class=\"dataframe\">\n",
       "  <thead>\n",
       "    <tr style=\"text-align: right;\">\n",
       "      <th></th>\n",
       "      <th>C_HOUR</th>\n",
       "      <th>0</th>\n",
       "    </tr>\n",
       "  </thead>\n",
       "  <tbody>\n",
       "    <tr>\n",
       "      <th>0</th>\n",
       "      <td>0.0</td>\n",
       "      <td>0.019541</td>\n",
       "    </tr>\n",
       "    <tr>\n",
       "      <th>1</th>\n",
       "      <td>1.0</td>\n",
       "      <td>0.021089</td>\n",
       "    </tr>\n",
       "    <tr>\n",
       "      <th>2</th>\n",
       "      <td>2.0</td>\n",
       "      <td>0.018909</td>\n",
       "    </tr>\n",
       "    <tr>\n",
       "      <th>3</th>\n",
       "      <td>3.0</td>\n",
       "      <td>0.028208</td>\n",
       "    </tr>\n",
       "    <tr>\n",
       "      <th>4</th>\n",
       "      <td>4.0</td>\n",
       "      <td>0.020680</td>\n",
       "    </tr>\n",
       "  </tbody>\n",
       "</table>\n",
       "</div>"
      ],
      "text/plain": [
       "   C_HOUR         0\n",
       "0     0.0  0.019541\n",
       "1     1.0  0.021089\n",
       "2     2.0  0.018909\n",
       "3     3.0  0.028208\n",
       "4     4.0  0.020680"
      ]
     },
     "execution_count": 159,
     "metadata": {},
     "output_type": "execute_result"
    }
   ],
   "source": [
    "#numpy array to pandas dataframe\n",
    "fatality_rate_by_hour = pd.DataFrame(fatality_rate_by_hour).reset_index()\n",
    "fatality_rate_by_hour.head()"
   ]
  },
  {
   "cell_type": "code",
   "execution_count": 222,
   "metadata": {},
   "outputs": [
    {
     "data": {
      "text/html": [
       "   <div id=\"gF68DE\"></div>\n",
       "   <script type=\"text/javascript\" data-lets-plot-script=\"plot\">\n",
       "       (function() {\n",
       "           var plotSpec={\n",
       "\"data\":{\n",
       "\"x\":[0.0,1.0,2.0,3.0,4.0,5.0,6.0,7.0,8.0,9.0,10.0,11.0,12.0,13.0,14.0,15.0,16.0,17.0,18.0,19.0,20.0,21.0,22.0,23.0],\n",
       "\"y\":[1.9540942928039702,2.1088957055214723,1.8909410729991205,2.820796460176991,2.068045363575717,1.8478727975934681,1.1550050217609642,0.6664163694387085,0.3976143141153081,0.5107782875941478,0.6721311475409836,0.5593536357986327,0.5918506715228773,0.5487977369165488,0.5276341736396098,0.4784283839281934,0.48047805547704603,0.3947043828632514,0.6482982171799028,0.7749460733402572,0.7419453196463055,0.9256123715995034,1.05977108944468,1.3011863758132414]\n",
       "},\n",
       "\"mapping\":{\n",
       "\"x\":\"x\",\n",
       "\"y\":\"y\"\n",
       "},\n",
       "\"data_meta\":{\n",
       "},\n",
       "\"theme\":{\n",
       "\"name\":\"classic\",\n",
       "\"axis_text_x\":{\n",
       "\"angle\":0.0,\n",
       "\"hjust\":1.0,\n",
       "\"blank\":false\n",
       "},\n",
       "\"axis_text_y\":{\n",
       "\"hjust\":1.0,\n",
       "\"blank\":false\n",
       "},\n",
       "\"flavor\":\"high_contrast_dark\"\n",
       "},\n",
       "\"kind\":\"plot\",\n",
       "\"scales\":[{\n",
       "\"name\":\"Hour\",\n",
       "\"aesthetic\":\"x\"\n",
       "},{\n",
       "\"name\":\"Fatality rate (%)\",\n",
       "\"aesthetic\":\"y\"\n",
       "}],\n",
       "\"layers\":[{\n",
       "\"geom\":\"line\",\n",
       "\"mapping\":{\n",
       "},\n",
       "\"data_meta\":{\n",
       "},\n",
       "\"color\":\"white\",\n",
       "\"data\":{\n",
       "}\n",
       "},{\n",
       "\"geom\":\"point\",\n",
       "\"mapping\":{\n",
       "},\n",
       "\"data_meta\":{\n",
       "},\n",
       "\"color\":\"white\",\n",
       "\"size\":3.0,\n",
       "\"data\":{\n",
       "}\n",
       "}],\n",
       "\"metainfo_list\":[]\n",
       "};\n",
       "           var plotContainer = document.getElementById(\"gF68DE\");\n",
       "           window.letsPlotCall(function() {{\n",
       "               LetsPlot.buildPlotFromProcessedSpecs(plotSpec, -1, -1, plotContainer);\n",
       "           }});\n",
       "       })();    \n",
       "   </script>"
      ],
      "text/plain": [
       "<lets_plot.plot.core.PlotSpec at 0x7f89a44dcfa0>"
      ]
     },
     "execution_count": 222,
     "metadata": {},
     "output_type": "execute_result"
    }
   ],
   "source": [
    "# plot fatality_rate_by_hour using ggplot\n",
    "\n",
    "X = fatality_rate_by_hour['C_HOUR']\n",
    "Y = fatality_rate_by_hour[0]*100\n",
    "p = ggplot(fatality_rate_by_hour, aes(x=X, y=Y)) + \\\n",
    "    geom_line(color = 'white') + \\\n",
    "    geom_point(color = 'white', size = 3) + \\\n",
    "    labs(x='Hour', y='Fatality rate (%)') + \\\n",
    "theme_classic() + \\\n",
    "    theme(\n",
    "        axis_text_x = element_text(angle = 0, hjust = 1),\n",
    "        axis_text_y = element_text(hjust = 1)\n",
    "    ) + flavor_high_contrast_dark()\n",
    "p"
   ]
  },
  {
   "attachments": {},
   "cell_type": "markdown",
   "metadata": {},
   "source": [
    "2.3 What type(s) of weather are most associated with a relatively high fatality rate?"
   ]
  },
  {
   "cell_type": "code",
   "execution_count": 192,
   "metadata": {},
   "outputs": [],
   "source": [
    "df = copy.deepcopy(data)"
   ]
  },
  {
   "cell_type": "code",
   "execution_count": 193,
   "metadata": {},
   "outputs": [
    {
     "name": "stdout",
     "output_type": "stream",
     "text": [
      "Weather Type Most Associated with High Fatality Rate:\n",
      "Weather: 6, Fatality Rate: 1.15%\n"
     ]
    }
   ],
   "source": [
    "# Convert 'C_WTHR' and 'P_ISEV' columns to numeric\n",
    "df['P_ISEV'] = pd.to_numeric(df['P_ISEV'], errors='coerce')\n",
    "\n",
    "# Filter out rows where 'P_ISEV' indicates fatality (3)\n",
    "fatality_df = df[df['P_ISEV'] == 3]\n",
    "# fatality_df['C_WTHR'].replace({1 : 'Dry, normal', 2: 'Wet', 3: 'Snow', 4: 'Slush', 5: 'Icy', 6: 'Sand/gravel', 7: 'Muddy', 8: 'Oil', 9: 'Flooded', 'Q': 'other', 'U': 'Unknown'}, inplace=True)\n",
    "# Group by 'C_WTHR' and calculate the fatality rate for each weather type\n",
    "fatality_rate_by_weather = fatality_df.groupby('C_WTHR').size() / df.groupby('C_WTHR').size()\n",
    "\n",
    "# Plot the fatality rate by weather type\n",
    "# plt.figure(figsize=(10, 6))\n",
    "# fatality_rate_by_weather.sort_values(ascending=False).plot(kind='bar')\n",
    "# plt.xlabel('Weather Type')\n",
    "# plt.ylabel('Fatality Rate')\n",
    "# plt.title('Fatality Rate by Weather Type')\n",
    "# plt.xticks(rotation=45)\n",
    "# plt.tight_layout()\n",
    "\n",
    "# Find the weather type with the highest fatality rate\n",
    "max_fatality_rate_weather = fatality_rate_by_weather.idxmax()\n",
    "max_fatality_rate = fatality_rate_by_weather.max()\n",
    "\n",
    "print(f\"Weather Type Most Associated with High Fatality Rate:\")\n",
    "print(f\"Weather: {max_fatality_rate_weather}, Fatality Rate: {max_fatality_rate:.2%}\")"
   ]
  },
  {
   "cell_type": "code",
   "execution_count": 194,
   "metadata": {},
   "outputs": [
    {
     "data": {
      "text/html": [
       "<div>\n",
       "<style scoped>\n",
       "    .dataframe tbody tr th:only-of-type {\n",
       "        vertical-align: middle;\n",
       "    }\n",
       "\n",
       "    .dataframe tbody tr th {\n",
       "        vertical-align: top;\n",
       "    }\n",
       "\n",
       "    .dataframe thead th {\n",
       "        text-align: right;\n",
       "    }\n",
       "</style>\n",
       "<table border=\"1\" class=\"dataframe\">\n",
       "  <thead>\n",
       "    <tr style=\"text-align: right;\">\n",
       "      <th></th>\n",
       "      <th>C_WTHR</th>\n",
       "      <th>0</th>\n",
       "    </tr>\n",
       "  </thead>\n",
       "  <tbody>\n",
       "    <tr>\n",
       "      <th>0</th>\n",
       "      <td>Dry</td>\n",
       "      <td>0.006321</td>\n",
       "    </tr>\n",
       "    <tr>\n",
       "      <th>1</th>\n",
       "      <td>Wet</td>\n",
       "      <td>0.006669</td>\n",
       "    </tr>\n",
       "    <tr>\n",
       "      <th>2</th>\n",
       "      <td>Snow</td>\n",
       "      <td>0.005563</td>\n",
       "    </tr>\n",
       "    <tr>\n",
       "      <th>3</th>\n",
       "      <td>Slush</td>\n",
       "      <td>0.006545</td>\n",
       "    </tr>\n",
       "    <tr>\n",
       "      <th>4</th>\n",
       "      <td>Icy</td>\n",
       "      <td>0.004231</td>\n",
       "    </tr>\n",
       "    <tr>\n",
       "      <th>5</th>\n",
       "      <td>Sand/gravel</td>\n",
       "      <td>0.011474</td>\n",
       "    </tr>\n",
       "    <tr>\n",
       "      <th>6</th>\n",
       "      <td>Muddy</td>\n",
       "      <td>0.004020</td>\n",
       "    </tr>\n",
       "    <tr>\n",
       "      <th>7</th>\n",
       "      <td>other</td>\n",
       "      <td>0.010417</td>\n",
       "    </tr>\n",
       "    <tr>\n",
       "      <th>8</th>\n",
       "      <td>Unknown</td>\n",
       "      <td>0.011333</td>\n",
       "    </tr>\n",
       "  </tbody>\n",
       "</table>\n",
       "</div>"
      ],
      "text/plain": [
       "        C_WTHR         0\n",
       "0          Dry  0.006321\n",
       "1          Wet  0.006669\n",
       "2         Snow  0.005563\n",
       "3        Slush  0.006545\n",
       "4          Icy  0.004231\n",
       "5  Sand/gravel  0.011474\n",
       "6        Muddy  0.004020\n",
       "7        other  0.010417\n",
       "8      Unknown  0.011333"
      ]
     },
     "execution_count": 194,
     "metadata": {},
     "output_type": "execute_result"
    }
   ],
   "source": [
    "fatality_rate_by_weather =  pd.DataFrame(fatality_rate_by_weather).reset_index()\n",
    "fatality_rate_by_weather['C_WTHR'].replace({1 : 'Dry', 2: 'Wet', 3: 'Snow', 4: 'Slush', 5: 'Icy', 6: 'Sand/gravel', 7: 'Muddy', 8: 'Oil', 9: 'Flooded', 'Q': 'other', 'U': 'Unknown'}, inplace=True)\n",
    "fatality_rate_by_weather"
   ]
  },
  {
   "cell_type": "code",
   "execution_count": 219,
   "metadata": {},
   "outputs": [
    {
     "data": {
      "text/html": [
       "   <div id=\"6ys4Cb\"></div>\n",
       "   <script type=\"text/javascript\" data-lets-plot-script=\"plot\">\n",
       "       (function() {\n",
       "           var plotSpec={\n",
       "\"data\":{\n",
       "\"x\":[\"Dry\",\"Wet\",\"Snow\",\"Slush\",\"Icy\",\"Sand/gravel\",\"Muddy\",\"other\",\"Unknown\"],\n",
       "\"y\":[0.632117328667362,0.6669164481079056,0.5562718732731626,0.6544654233754199,0.4231311706629055,1.1473565804274466,0.4020100502512563,1.0416666666666665,1.1333134506412168]\n",
       "},\n",
       "\"mapping\":{\n",
       "\"x\":\"x\",\n",
       "\"y\":\"y\"\n",
       "},\n",
       "\"data_meta\":{\n",
       "},\n",
       "\"theme\":{\n",
       "\"name\":\"classic\",\n",
       "\"axis_text_x\":{\n",
       "\"angle\":0.0,\n",
       "\"hjust\":1.0,\n",
       "\"blank\":false\n",
       "},\n",
       "\"axis_text_y\":{\n",
       "\"hjust\":1.0,\n",
       "\"blank\":false\n",
       "},\n",
       "\"flavor\":\"high_contrast_dark\"\n",
       "},\n",
       "\"kind\":\"plot\",\n",
       "\"scales\":[{\n",
       "\"name\":\"Weather\",\n",
       "\"aesthetic\":\"x\"\n",
       "},{\n",
       "\"name\":\"Fatality rate (%)\",\n",
       "\"aesthetic\":\"y\"\n",
       "}],\n",
       "\"layers\":[{\n",
       "\"geom\":\"bar\",\n",
       "\"stat\":\"identity\",\n",
       "\"mapping\":{\n",
       "},\n",
       "\"data_meta\":{\n",
       "},\n",
       "\"color\":\"white\",\n",
       "\"size\":0.5,\n",
       "\"fill\":\"black\",\n",
       "\"data\":{\n",
       "}\n",
       "}],\n",
       "\"metainfo_list\":[]\n",
       "};\n",
       "           var plotContainer = document.getElementById(\"6ys4Cb\");\n",
       "           window.letsPlotCall(function() {{\n",
       "               LetsPlot.buildPlotFromProcessedSpecs(plotSpec, -1, -1, plotContainer);\n",
       "           }});\n",
       "       })();    \n",
       "   </script>"
      ],
      "text/plain": [
       "<lets_plot.plot.core.PlotSpec at 0x7f89e13d4700>"
      ]
     },
     "execution_count": 219,
     "metadata": {},
     "output_type": "execute_result"
    }
   ],
   "source": [
    "X = fatality_rate_by_weather['C_WTHR']\n",
    "Y = fatality_rate_by_weather[0]*100\n",
    "p = ggplot(fatality_rate_by_weather, aes(x=X, y=Y)) + \\\n",
    "    geom_bar(stat = 'identity', color = 'white', size = 0.5, fill = 'black') + \\\n",
    "    labs(x='Weather', y='Fatality rate (%)') + \\\n",
    "theme_classic() + \\\n",
    "    theme(\n",
    "        axis_text_x = element_text(angle = 0, hjust = 1),\n",
    "        axis_text_y = element_text(hjust = 1)\n",
    "    ) + flavor_high_contrast_dark()\n",
    "p"
   ]
  },
  {
   "attachments": {},
   "cell_type": "markdown",
   "metadata": {},
   "source": [
    "2.3 What is the effect of using a Safety device on the fatality rate?"
   ]
  },
  {
   "cell_type": "code",
   "execution_count": 223,
   "metadata": {},
   "outputs": [],
   "source": [
    "df = copy.deepcopy(data)"
   ]
  },
  {
   "cell_type": "code",
   "execution_count": 224,
   "metadata": {},
   "outputs": [
    {
     "name": "stdout",
     "output_type": "stream",
     "text": [
      "Safety Device Most Associated with High Fatality Rate:\n",
      "Safety Device: 10, Fatality Rate: 12.66%\n"
     ]
    },
    {
     "data": {
      "image/png": "[encoded data removed]",
      "text/plain": [
       "<Figure size 1000x600 with 1 Axes>"
      ]
     },
     "metadata": {},
     "output_type": "display_data"
    }
   ],
   "source": [
    "# Convert 'P_SAFE' and 'P_ISEV' columns to numeric\n",
    "df['P_ISEV'] = pd.to_numeric(df['P_ISEV'], errors='coerce')\n",
    "\n",
    "# Filter out rows where 'P_ISEV' indicates fatality (3)\n",
    "fatality_df = df[df['P_ISEV'] == 3]\n",
    "\n",
    "# Group by 'P_SAFE' and calculate the fatality rate for each safety device category\n",
    "fatality_rate_by_safety = fatality_df.groupby('P_SAFE').size() / df.groupby('P_SAFE').size()\n",
    "\n",
    "# Plot the fatality rate by safety device category\n",
    "plt.figure(figsize=(10, 6))\n",
    "fatality_rate_by_safety.sort_values(ascending=False).plot(kind='bar')\n",
    "plt.xlabel('Safety Device')\n",
    "plt.ylabel('Fatality Rate')\n",
    "plt.title('Fatality Rate by Safety Device')\n",
    "plt.xticks(rotation=45)\n",
    "plt.tight_layout()\n",
    "\n",
    "# Find the safety device with the highest fatality rate\n",
    "max_fatality_rate_safety = fatality_rate_by_safety.idxmax()\n",
    "max_fatality_rate = fatality_rate_by_safety.max()\n",
    "\n",
    "print(f\"Safety Device Most Associated with High Fatality Rate:\")\n",
    "print(f\"Safety Device: {max_fatality_rate_safety}, Fatality Rate: {max_fatality_rate:.2%}\")\n",
    "\n",
    "plt.show()"
   ]
  },
  {
   "cell_type": "code",
   "execution_count": null,
   "metadata": {},
   "outputs": [],
   "source": []
  }
 ],
 "metadata": {
  "kernelspec": {
   "display_name": "Python 3",
   "language": "python",
   "name": "python3"
  },
  "language_info": {
   "codemirror_mode": {
    "name": "ipython",
    "version": 3
   },
   "file_extension": ".py",
   "mimetype": "text/x-python",
   "name": "python",
   "nbconvert_exporter": "python",
   "pygments_lexer": "ipython3",
   "version": "3.9.16"
  },
  "orig_nbformat": 4
 },
 "nbformat": 4,
 "nbformat_minor": 2
}
