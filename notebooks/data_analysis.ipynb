{
 "cells": [
  {
   "cell_type": "code",
   "execution_count": 1,
   "metadata": {},
   "outputs": [],
   "source": [
    "import pandas as pd\n",
    "import numpy as np\n",
    "import matplotlib.pyplot as plt\n",
    "import seaborn as sns"
   ]
  },
  {
   "cell_type": "code",
   "execution_count": 2,
   "metadata": {},
   "outputs": [
    {
     "data": {
      "text/html": [
       "<div>\n",
       "<style scoped>\n",
       "    .dataframe tbody tr th:only-of-type {\n",
       "        vertical-align: middle;\n",
       "    }\n",
       "\n",
       "    .dataframe tbody tr th {\n",
       "        vertical-align: top;\n",
       "    }\n",
       "\n",
       "    .dataframe thead th {\n",
       "        text-align: right;\n",
       "    }\n",
       "</style>\n",
       "<table border=\"1\" class=\"dataframe\">\n",
       "  <thead>\n",
       "    <tr style=\"text-align: right;\">\n",
       "      <th></th>\n",
       "      <th>C_YEAR</th>\n",
       "      <th>C_MNTH</th>\n",
       "      <th>C_WDAY</th>\n",
       "      <th>C_HOUR</th>\n",
       "      <th>C_SEV</th>\n",
       "      <th>C_VEHS</th>\n",
       "      <th>C_CONF</th>\n",
       "      <th>C_RCFG</th>\n",
       "      <th>C_WTHR</th>\n",
       "      <th>C_RSUR</th>\n",
       "      <th>...</th>\n",
       "      <th>V_TYPE</th>\n",
       "      <th>V_YEAR</th>\n",
       "      <th>P_ID</th>\n",
       "      <th>P_SEX</th>\n",
       "      <th>P_AGE</th>\n",
       "      <th>P_PSN</th>\n",
       "      <th>P_ISEV</th>\n",
       "      <th>P_SAFE</th>\n",
       "      <th>P_USER</th>\n",
       "      <th>C_CASE</th>\n",
       "    </tr>\n",
       "  </thead>\n",
       "  <tbody>\n",
       "    <tr>\n",
       "      <th>0</th>\n",
       "      <td>2017</td>\n",
       "      <td>1</td>\n",
       "      <td>1</td>\n",
       "      <td>10</td>\n",
       "      <td>2</td>\n",
       "      <td>1</td>\n",
       "      <td>2</td>\n",
       "      <td>3</td>\n",
       "      <td>1</td>\n",
       "      <td>3</td>\n",
       "      <td>...</td>\n",
       "      <td>1</td>\n",
       "      <td>UUUU</td>\n",
       "      <td>1</td>\n",
       "      <td>M</td>\n",
       "      <td>75</td>\n",
       "      <td>11</td>\n",
       "      <td>2</td>\n",
       "      <td>NN</td>\n",
       "      <td>1</td>\n",
       "      <td>2456013</td>\n",
       "    </tr>\n",
       "    <tr>\n",
       "      <th>1</th>\n",
       "      <td>2017</td>\n",
       "      <td>1</td>\n",
       "      <td>1</td>\n",
       "      <td>12</td>\n",
       "      <td>2</td>\n",
       "      <td>1</td>\n",
       "      <td>4</td>\n",
       "      <td>UU</td>\n",
       "      <td>1</td>\n",
       "      <td>5</td>\n",
       "      <td>...</td>\n",
       "      <td>1</td>\n",
       "      <td>UUUU</td>\n",
       "      <td>1</td>\n",
       "      <td>F</td>\n",
       "      <td>21</td>\n",
       "      <td>11</td>\n",
       "      <td>2</td>\n",
       "      <td>2</td>\n",
       "      <td>1</td>\n",
       "      <td>2456022</td>\n",
       "    </tr>\n",
       "    <tr>\n",
       "      <th>2</th>\n",
       "      <td>2017</td>\n",
       "      <td>1</td>\n",
       "      <td>1</td>\n",
       "      <td>0</td>\n",
       "      <td>2</td>\n",
       "      <td>1</td>\n",
       "      <td>3</td>\n",
       "      <td>UU</td>\n",
       "      <td>7</td>\n",
       "      <td>3</td>\n",
       "      <td>...</td>\n",
       "      <td>1</td>\n",
       "      <td>UUUU</td>\n",
       "      <td>1</td>\n",
       "      <td>F</td>\n",
       "      <td>34</td>\n",
       "      <td>11</td>\n",
       "      <td>2</td>\n",
       "      <td>2</td>\n",
       "      <td>1</td>\n",
       "      <td>2456061</td>\n",
       "    </tr>\n",
       "    <tr>\n",
       "      <th>3</th>\n",
       "      <td>2017</td>\n",
       "      <td>1</td>\n",
       "      <td>1</td>\n",
       "      <td>17</td>\n",
       "      <td>2</td>\n",
       "      <td>2</td>\n",
       "      <td>21</td>\n",
       "      <td>UU</td>\n",
       "      <td>1</td>\n",
       "      <td>1</td>\n",
       "      <td>...</td>\n",
       "      <td>1</td>\n",
       "      <td>UUUU</td>\n",
       "      <td>1</td>\n",
       "      <td>F</td>\n",
       "      <td>50</td>\n",
       "      <td>11</td>\n",
       "      <td>2</td>\n",
       "      <td>2</td>\n",
       "      <td>1</td>\n",
       "      <td>2456167</td>\n",
       "    </tr>\n",
       "    <tr>\n",
       "      <th>4</th>\n",
       "      <td>2017</td>\n",
       "      <td>1</td>\n",
       "      <td>1</td>\n",
       "      <td>17</td>\n",
       "      <td>2</td>\n",
       "      <td>2</td>\n",
       "      <td>21</td>\n",
       "      <td>UU</td>\n",
       "      <td>1</td>\n",
       "      <td>1</td>\n",
       "      <td>...</td>\n",
       "      <td>1</td>\n",
       "      <td>UUUU</td>\n",
       "      <td>1</td>\n",
       "      <td>M</td>\n",
       "      <td>63</td>\n",
       "      <td>11</td>\n",
       "      <td>1</td>\n",
       "      <td>NN</td>\n",
       "      <td>1</td>\n",
       "      <td>2456167</td>\n",
       "    </tr>\n",
       "  </tbody>\n",
       "</table>\n",
       "<p>5 rows × 23 columns</p>\n",
       "</div>"
      ],
      "text/plain": [
       "   C_YEAR C_MNTH C_WDAY C_HOUR  C_SEV C_VEHS C_CONF C_RCFG C_WTHR C_RSUR  ...  \\\n",
       "0    2017      1      1     10      2      1      2      3      1      3  ...   \n",
       "1    2017      1      1     12      2      1      4     UU      1      5  ...   \n",
       "2    2017      1      1      0      2      1      3     UU      7      3  ...   \n",
       "3    2017      1      1     17      2      2     21     UU      1      1  ...   \n",
       "4    2017      1      1     17      2      2     21     UU      1      1  ...   \n",
       "\n",
       "  V_TYPE V_YEAR P_ID P_SEX P_AGE P_PSN P_ISEV P_SAFE P_USER   C_CASE  \n",
       "0      1   UUUU    1     M    75    11      2     NN      1  2456013  \n",
       "1      1   UUUU    1     F    21    11      2      2      1  2456022  \n",
       "2      1   UUUU    1     F    34    11      2      2      1  2456061  \n",
       "3      1   UUUU    1     F    50    11      2      2      1  2456167  \n",
       "4      1   UUUU    1     M    63    11      1     NN      1  2456167  \n",
       "\n",
       "[5 rows x 23 columns]"
      ]
     },
     "execution_count": 2,
     "metadata": {},
     "output_type": "execute_result"
    }
   ],
   "source": [
    "data = '/Users/patrickokwir/Desktop/Git_Projects/National-Collision-Database-Analysis/dataset/y_2017_en.xlsx'\n",
    "df = pd.read_excel(data)\n",
    "df.head()"
   ]
  },
  {
   "cell_type": "markdown",
   "metadata": {},
   "source": [
    "**Question 2: Using Excel (Pivot Tables/Charts), or any other analytical tool of your choice, generate reports/charts to answer the following questions:**\n",
    "\n",
    "What age range and which sex are more likely to be associated with a collision?\\\n",
    "What time(s) of days are most associated with a relatively high fatality rate?\\\n",
    "What type(s) of weather are most associated with a relatively high fatality rate?\\\n",
    "What is the effect of using a Safety device on the fatality rate?\\\n",
    "Use the previous charts/reports and perform additional ad hoc analysis of the dataset to outline the key contributing factors to Canadian collisions."
   ]
  },
  {
   "cell_type": "markdown",
   "metadata": {},
   "source": [
    "**2.1 What age range and which sex are more likely to be associated with a collision?\\**"
   ]
  },
  {
   "cell_type": "code",
   "execution_count": 3,
   "metadata": {},
   "outputs": [
    {
     "data": {
      "text/plain": [
       "array(['M', 'F', 'U', 'N'], dtype=object)"
      ]
     },
     "execution_count": 3,
     "metadata": {},
     "output_type": "execute_result"
    }
   ],
   "source": [
    "df['P_SEX'].unique()"
   ]
  },
  {
   "cell_type": "code",
   "execution_count": 4,
   "metadata": {},
   "outputs": [
    {
     "data": {
      "text/plain": [
       "array([75, 21, 34, 50, 63, 26, 20, 80, 35, 37, 45, 32, 38, 60, 25, 19, 27,\n",
       "       43, 72, 55, 31, 76, 'UU', 51, 46, 42, 58, 59, 56, 41, 36, 48, 39,\n",
       "       22, 52, 53, 33, 18, 61, 40, 29, 3, 73, 69, 30, 44, 24, 54, 65, 47,\n",
       "       70, 71, 13, 23, 17, 74, 15, 66, 88, 57, 49, 67, 14, 64, 28, 68, 77,\n",
       "       62, 1, 8, 2, 11, 9, 16, 89, 85, 84, 4, 6, 81, 12, 5, 7, 78, 79, 93,\n",
       "       86, 10, 91, 90, 83, 92, 82, 87, 'NN', 99, 98, 97, 96, 94, 95],\n",
       "      dtype=object)"
      ]
     },
     "execution_count": 4,
     "metadata": {},
     "output_type": "execute_result"
    }
   ],
   "source": [
    "df['P_AGE'].unique()"
   ]
  },
  {
   "cell_type": "code",
   "execution_count": 5,
   "metadata": {},
   "outputs": [
    {
     "data": {
      "text/plain": [
       "array([2, 1])"
      ]
     },
     "execution_count": 5,
     "metadata": {},
     "output_type": "execute_result"
    }
   ],
   "source": [
    "df['C_SEV'].unique()"
   ]
  },
  {
   "cell_type": "code",
   "execution_count": 12,
   "metadata": {},
   "outputs": [
    {
     "name": "stdout",
     "output_type": "stream",
     "text": [
      "The age range and sex more likely to be associated with a collision:\n",
      "Age Range: (18, 26], Sex: Female\n",
      "Collision Proportion: 18.28%\n"
     ]
    }
   ],
   "source": [
    "# Filter out rows with 'Unknown' values in 'P_SEX' and convert non-numeric 'P_AGE' values to NaN\n",
    "df = df[df['P_SEX'] != 'U']\n",
    "df = df[df['P_SEX']!= 'N']\n",
    "df = df[df['P_AGE']!= 'UU']\n",
    "df = df[df['P_AGE']!= 'NN']\n",
    "df['P_AGE'] = pd.to_numeric(df['P_AGE'], errors='coerce')\n",
    "\n",
    "# Filter rows where collision severity is either 1 or 2\n",
    "collision_df = df[df['C_SEV'].isin([1, 2])]\n",
    "\n",
    "# Define age ranges and corresponding labels\n",
    "age_ranges = [(0, 17), (18, 25), (26, 33), (34, 41), (41, 47), (48, 51), (52, 59), (60, 100)]\n",
    "age_range_labels = ['0-17', '18-25', '26-33', '34-41', '47 -48', '49-51', '52-59', '60+']\n",
    "\n",
    "# Define Sex Labels for each P_SEX value and replace in df\n",
    "collision_df['P_SEX'] = collision_df['P_SEX'].replace({'M': 'Male', 'F': 'Female'})\n",
    "\n",
    "\n",
    "# Define Severity Labels for each C_SEV value and replace in collision_df\n",
    "collision_df['C_SEV'] = collision_df['C_SEV'].replace({'1': 'At least one fatality', '2': 'Non-Fatal'})\n",
    "\n",
    "# Calculate total collisions for each age range and sex combination\n",
    "collision_counts = collision_df.groupby(['P_SEX', pd.cut(collision_df['P_AGE'], [age[0] for age in age_ranges] + [age_ranges[-1][1]])]).size().unstack().fillna(0)\n",
    "collision_proportions = collision_counts.div(collision_counts.sum(axis=1), axis=0)\n",
    "\n",
    "# Find the age range and sex with the highest collision proportion\n",
    "max_collision_proportion = collision_proportions.stack().max()\n",
    "max_collision_idx = collision_proportions.stack().idxmax()\n",
    "\n",
    "print(f\"The age range and sex more likely to be associated with a collision:\")\n",
    "print(f\"Age Range: {max_collision_idx[1]}, Sex: {max_collision_idx[0]}\")\n",
    "print(f\"Collision Proportion: {max_collision_proportion:.2%}\")\n",
    "\n"
   ]
  },
  {
   "cell_type": "code",
   "execution_count": 7,
   "metadata": {},
   "outputs": [
    {
     "data": {
      "text/html": [
       "\n",
       "            <div id=\"VjnWXW\"></div>\n",
       "            <script type=\"text/javascript\" data-lets-plot-script=\"library\">\n",
       "                if(!window.letsPlotCallQueue) {\n",
       "                    window.letsPlotCallQueue = [];\n",
       "                }; \n",
       "                window.letsPlotCall = function(f) {\n",
       "                    window.letsPlotCallQueue.push(f);\n",
       "                };\n",
       "                (function() {\n",
       "                    var script = document.createElement(\"script\");\n",
       "                    script.type = \"text/javascript\";\n",
       "                    script.src = \"https://cdn.jsdelivr.net/gh/JetBrains/lets-plot@v3.2.0/js-package/distr/lets-plot.min.js\";\n",
       "                    script.onload = function() {\n",
       "                        window.letsPlotCall = function(f) {f();};\n",
       "                        window.letsPlotCallQueue.forEach(function(f) {f();});\n",
       "                        window.letsPlotCallQueue = [];\n",
       "                        \n",
       "                    };\n",
       "                    script.onerror = function(event) {\n",
       "                        window.letsPlotCall = function(f) {};    // noop\n",
       "                        window.letsPlotCallQueue = [];\n",
       "                        var div = document.createElement(\"div\");\n",
       "                        div.style.color = 'darkred';\n",
       "                        div.textContent = 'Error loading Lets-Plot JS';\n",
       "                        document.getElementById(\"VjnWXW\").appendChild(div);\n",
       "                    };\n",
       "                    var e = document.getElementById(\"VjnWXW\");\n",
       "                    e.appendChild(script);\n",
       "                })()\n",
       "            </script>\n",
       "            "
      ]
     },
     "metadata": {},
     "output_type": "display_data"
    }
   ],
   "source": [
    "from lets_plot import *\n",
    "LetsPlot.setup_html()"
   ]
  },
  {
   "cell_type": "code",
   "execution_count": 25,
   "metadata": {},
   "outputs": [
    {
     "data": {
      "text/html": [
       "<div>\n",
       "<style scoped>\n",
       "    .dataframe tbody tr th:only-of-type {\n",
       "        vertical-align: middle;\n",
       "    }\n",
       "\n",
       "    .dataframe tbody tr th {\n",
       "        vertical-align: top;\n",
       "    }\n",
       "\n",
       "    .dataframe thead th {\n",
       "        text-align: right;\n",
       "    }\n",
       "</style>\n",
       "<table border=\"1\" class=\"dataframe\">\n",
       "  <thead>\n",
       "    <tr style=\"text-align: right;\">\n",
       "      <th>P_SEX</th>\n",
       "      <th>P_AGE</th>\n",
       "      <th>Female</th>\n",
       "      <th>Male</th>\n",
       "    </tr>\n",
       "  </thead>\n",
       "  <tbody>\n",
       "    <tr>\n",
       "      <th>0</th>\n",
       "      <td>(0, 18]</td>\n",
       "      <td>0.141919</td>\n",
       "      <td>0.125006</td>\n",
       "    </tr>\n",
       "    <tr>\n",
       "      <th>1</th>\n",
       "      <td>(18, 26]</td>\n",
       "      <td>0.182830</td>\n",
       "      <td>0.181522</td>\n",
       "    </tr>\n",
       "    <tr>\n",
       "      <th>2</th>\n",
       "      <td>(26, 34]</td>\n",
       "      <td>0.144212</td>\n",
       "      <td>0.147055</td>\n",
       "    </tr>\n",
       "    <tr>\n",
       "      <th>3</th>\n",
       "      <td>(34, 41]</td>\n",
       "      <td>0.113182</td>\n",
       "      <td>0.109846</td>\n",
       "    </tr>\n",
       "    <tr>\n",
       "      <th>4</th>\n",
       "      <td>(41, 48]</td>\n",
       "      <td>0.104819</td>\n",
       "      <td>0.105264</td>\n",
       "    </tr>\n",
       "    <tr>\n",
       "      <th>5</th>\n",
       "      <td>(48, 52]</td>\n",
       "      <td>0.057622</td>\n",
       "      <td>0.061145</td>\n",
       "    </tr>\n",
       "    <tr>\n",
       "      <th>6</th>\n",
       "      <td>(52, 60]</td>\n",
       "      <td>0.105289</td>\n",
       "      <td>0.116265</td>\n",
       "    </tr>\n",
       "    <tr>\n",
       "      <th>7</th>\n",
       "      <td>(60, 100]</td>\n",
       "      <td>0.150126</td>\n",
       "      <td>0.153898</td>\n",
       "    </tr>\n",
       "  </tbody>\n",
       "</table>\n",
       "</div>"
      ],
      "text/plain": [
       "P_SEX      P_AGE    Female      Male\n",
       "0        (0, 18]  0.141919  0.125006\n",
       "1       (18, 26]  0.182830  0.181522\n",
       "2       (26, 34]  0.144212  0.147055\n",
       "3       (34, 41]  0.113182  0.109846\n",
       "4       (41, 48]  0.104819  0.105264\n",
       "5       (48, 52]  0.057622  0.061145\n",
       "6       (52, 60]  0.105289  0.116265\n",
       "7      (60, 100]  0.150126  0.153898"
      ]
     },
     "execution_count": 25,
     "metadata": {},
     "output_type": "execute_result"
    }
   ],
   "source": [
    "# get data to plot \n",
    "plot_data = collision_proportions.transpose().reset_index(level=0)\n",
    "plot_data"
   ]
  },
  {
   "cell_type": "code",
   "execution_count": 27,
   "metadata": {},
   "outputs": [],
   "source": [
    "# plot the data using ggplot2"
   ]
  },
  {
   "cell_type": "markdown",
   "metadata": {},
   "source": [
    "2.2 What time(s) of days are most associated with a relatively high fatality rate?"
   ]
  },
  {
   "cell_type": "code",
   "execution_count": null,
   "metadata": {},
   "outputs": [],
   "source": [
    "# Convert 'C_HOUR' and 'P_ISEV' columns to numeric\n",
    "df['C_HOUR'] = pd.to_numeric(df['C_HOUR'], errors='coerce')\n",
    "df['P_ISEV'] = pd.to_numeric(df['P_ISEV'], errors='coerce')\n",
    "\n",
    "# Filter out non-numeric values in 'C_HOUR' and 'P_ISEV'\n",
    "df = df.dropna(subset=['C_HOUR', 'P_ISEV'])\n",
    "\n",
    "# Filter rows where 'P_ISEV' indicates fatality (3)\n",
    "fatality_df = df[df['P_ISEV'] == 3]\n",
    "\n",
    "# Group by 'C_HOUR' and calculate the fatality rate for each hour\n",
    "fatality_rate_by_hour = fatality_df.groupby('C_HOUR').size() / df.groupby('C_HOUR').size()\n",
    "\n",
    "# Plot the fatality rate by hour\n",
    "plt.bar(fatality_rate_by_hour.index, fatality_rate_by_hour.values)\n",
    "plt.xlabel('Time of Day (Hour)')\n",
    "plt.ylabel('Fatality Rate')\n",
    "plt.title('Fatality Rate by Time of Day')\n",
    "plt.xticks(fatality_rate_by_hour.index)\n",
    "\n",
    "# Find the hour with the highest fatality rate\n",
    "max_fatality_rate_hour = fatality_rate_by_hour.idxmax()\n",
    "max_fatality_rate = fatality_rate_by_hour.max()\n",
    "\n",
    "print(f\"Time of Day Most Associated with High Fatality Rate:\")\n",
    "print(f\"Hour: {max_fatality_rate_hour}, Fatality Rate: {max_fatality_rate:.2%}\")\n",
    "\n",
    "plt.show()"
   ]
  }
 ],
 "metadata": {
  "kernelspec": {
   "display_name": "Python 3",
   "language": "python",
   "name": "python3"
  },
  "language_info": {
   "codemirror_mode": {
    "name": "ipython",
    "version": 3
   },
   "file_extension": ".py",
   "mimetype": "text/x-python",
   "name": "python",
   "nbconvert_exporter": "python",
   "pygments_lexer": "ipython3",
   "version": "3.9.7"
  },
  "orig_nbformat": 4
 },
 "nbformat": 4,
 "nbformat_minor": 2
}
