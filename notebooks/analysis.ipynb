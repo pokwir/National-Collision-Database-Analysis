{
 "cells": [
  {
   "cell_type": "code",
   "execution_count": 43,
   "metadata": {},
   "outputs": [],
   "source": [
    "import pandas as pd\n",
    "import numpy as np\n",
    "import matplotlib.pyplot as plt\n",
    "import seaborn as sns"
   ]
  },
  {
   "cell_type": "code",
   "execution_count": 44,
   "metadata": {},
   "outputs": [],
   "source": [
    "data = '/Users/patrickokwir/Desktop/Git_Projects/National-Collision-Database-Analysis/notebooks/collision_2017.csv'"
   ]
  },
  {
   "cell_type": "code",
   "execution_count": 45,
   "metadata": {},
   "outputs": [
    {
     "data": {
      "text/html": [
       "<div>\n",
       "<style scoped>\n",
       "    .dataframe tbody tr th:only-of-type {\n",
       "        vertical-align: middle;\n",
       "    }\n",
       "\n",
       "    .dataframe tbody tr th {\n",
       "        vertical-align: top;\n",
       "    }\n",
       "\n",
       "    .dataframe thead th {\n",
       "        text-align: right;\n",
       "    }\n",
       "</style>\n",
       "<table border=\"1\" class=\"dataframe\">\n",
       "  <thead>\n",
       "    <tr style=\"text-align: right;\">\n",
       "      <th></th>\n",
       "      <th>C_YEAR</th>\n",
       "      <th>C_MNTH</th>\n",
       "      <th>C_WDAY</th>\n",
       "      <th>C_HOUR</th>\n",
       "      <th>C_SEV</th>\n",
       "      <th>C_VEHS</th>\n",
       "      <th>C_CONF</th>\n",
       "      <th>C_RCFG</th>\n",
       "      <th>C_WTHR</th>\n",
       "      <th>C_RSUR</th>\n",
       "      <th>...</th>\n",
       "      <th>V_TYPE</th>\n",
       "      <th>V_YEAR</th>\n",
       "      <th>P_ID</th>\n",
       "      <th>P_SEX</th>\n",
       "      <th>P_AGE</th>\n",
       "      <th>P_PSN</th>\n",
       "      <th>P_ISEV</th>\n",
       "      <th>P_SAFE</th>\n",
       "      <th>P_USER</th>\n",
       "      <th>C_CASE</th>\n",
       "    </tr>\n",
       "  </thead>\n",
       "  <tbody>\n",
       "    <tr>\n",
       "      <th>0</th>\n",
       "      <td>2017</td>\n",
       "      <td>1</td>\n",
       "      <td>1</td>\n",
       "      <td>10</td>\n",
       "      <td>2</td>\n",
       "      <td>1</td>\n",
       "      <td>2</td>\n",
       "      <td>3</td>\n",
       "      <td>1</td>\n",
       "      <td>3</td>\n",
       "      <td>...</td>\n",
       "      <td>1</td>\n",
       "      <td>Unknown</td>\n",
       "      <td>1</td>\n",
       "      <td>Male</td>\n",
       "      <td>75</td>\n",
       "      <td>11</td>\n",
       "      <td>2</td>\n",
       "      <td>Data element is not applicable</td>\n",
       "      <td>1</td>\n",
       "      <td>2456013</td>\n",
       "    </tr>\n",
       "    <tr>\n",
       "      <th>1</th>\n",
       "      <td>2017</td>\n",
       "      <td>1</td>\n",
       "      <td>1</td>\n",
       "      <td>12</td>\n",
       "      <td>2</td>\n",
       "      <td>1</td>\n",
       "      <td>4</td>\n",
       "      <td>Unknown</td>\n",
       "      <td>1</td>\n",
       "      <td>5</td>\n",
       "      <td>...</td>\n",
       "      <td>1</td>\n",
       "      <td>Unknown</td>\n",
       "      <td>1</td>\n",
       "      <td>Female</td>\n",
       "      <td>21</td>\n",
       "      <td>11</td>\n",
       "      <td>2</td>\n",
       "      <td>2</td>\n",
       "      <td>1</td>\n",
       "      <td>2456022</td>\n",
       "    </tr>\n",
       "    <tr>\n",
       "      <th>2</th>\n",
       "      <td>2017</td>\n",
       "      <td>1</td>\n",
       "      <td>1</td>\n",
       "      <td>0</td>\n",
       "      <td>2</td>\n",
       "      <td>1</td>\n",
       "      <td>3</td>\n",
       "      <td>Unknown</td>\n",
       "      <td>7</td>\n",
       "      <td>3</td>\n",
       "      <td>...</td>\n",
       "      <td>1</td>\n",
       "      <td>Unknown</td>\n",
       "      <td>1</td>\n",
       "      <td>Female</td>\n",
       "      <td>34</td>\n",
       "      <td>11</td>\n",
       "      <td>2</td>\n",
       "      <td>2</td>\n",
       "      <td>1</td>\n",
       "      <td>2456061</td>\n",
       "    </tr>\n",
       "    <tr>\n",
       "      <th>3</th>\n",
       "      <td>2017</td>\n",
       "      <td>1</td>\n",
       "      <td>1</td>\n",
       "      <td>17</td>\n",
       "      <td>2</td>\n",
       "      <td>2</td>\n",
       "      <td>21</td>\n",
       "      <td>Unknown</td>\n",
       "      <td>1</td>\n",
       "      <td>1</td>\n",
       "      <td>...</td>\n",
       "      <td>1</td>\n",
       "      <td>Unknown</td>\n",
       "      <td>1</td>\n",
       "      <td>Female</td>\n",
       "      <td>50</td>\n",
       "      <td>11</td>\n",
       "      <td>2</td>\n",
       "      <td>2</td>\n",
       "      <td>1</td>\n",
       "      <td>2456167</td>\n",
       "    </tr>\n",
       "    <tr>\n",
       "      <th>4</th>\n",
       "      <td>2017</td>\n",
       "      <td>1</td>\n",
       "      <td>1</td>\n",
       "      <td>17</td>\n",
       "      <td>2</td>\n",
       "      <td>2</td>\n",
       "      <td>21</td>\n",
       "      <td>Unknown</td>\n",
       "      <td>1</td>\n",
       "      <td>1</td>\n",
       "      <td>...</td>\n",
       "      <td>1</td>\n",
       "      <td>Unknown</td>\n",
       "      <td>1</td>\n",
       "      <td>Male</td>\n",
       "      <td>63</td>\n",
       "      <td>11</td>\n",
       "      <td>1</td>\n",
       "      <td>Data element is not applicable</td>\n",
       "      <td>1</td>\n",
       "      <td>2456167</td>\n",
       "    </tr>\n",
       "  </tbody>\n",
       "</table>\n",
       "<p>5 rows × 23 columns</p>\n",
       "</div>"
      ],
      "text/plain": [
       "   C_YEAR C_MNTH C_WDAY C_HOUR  C_SEV C_VEHS C_CONF   C_RCFG C_WTHR C_RSUR  \\\n",
       "0    2017      1      1     10      2      1      2        3      1      3   \n",
       "1    2017      1      1     12      2      1      4  Unknown      1      5   \n",
       "2    2017      1      1      0      2      1      3  Unknown      7      3   \n",
       "3    2017      1      1     17      2      2     21  Unknown      1      1   \n",
       "4    2017      1      1     17      2      2     21  Unknown      1      1   \n",
       "\n",
       "   ... V_TYPE   V_YEAR P_ID   P_SEX P_AGE P_PSN P_ISEV  \\\n",
       "0  ...      1  Unknown    1    Male    75    11      2   \n",
       "1  ...      1  Unknown    1  Female    21    11      2   \n",
       "2  ...      1  Unknown    1  Female    34    11      2   \n",
       "3  ...      1  Unknown    1  Female    50    11      2   \n",
       "4  ...      1  Unknown    1    Male    63    11      1   \n",
       "\n",
       "                           P_SAFE P_USER   C_CASE  \n",
       "0  Data element is not applicable      1  2456013  \n",
       "1                               2      1  2456022  \n",
       "2                               2      1  2456061  \n",
       "3                               2      1  2456167  \n",
       "4  Data element is not applicable      1  2456167  \n",
       "\n",
       "[5 rows x 23 columns]"
      ]
     },
     "execution_count": 45,
     "metadata": {},
     "output_type": "execute_result"
    }
   ],
   "source": [
    "df = pd.read_csv(data, low_memory=False)\n",
    "df.head()"
   ]
  },
  {
   "cell_type": "code",
   "execution_count": 46,
   "metadata": {},
   "outputs": [
    {
     "data": {
      "text/plain": [
       "Index(['C_YEAR', 'C_MNTH', 'C_WDAY', 'C_HOUR', 'C_SEV', 'C_VEHS', 'C_CONF',\n",
       "       'C_RCFG', 'C_WTHR', 'C_RSUR', 'C_RALN', 'C_TRAF', 'V_ID', 'V_TYPE',\n",
       "       'V_YEAR', 'P_ID', 'P_SEX', 'P_AGE', 'P_PSN', 'P_ISEV', 'P_SAFE',\n",
       "       'P_USER', 'C_CASE'],\n",
       "      dtype='object')"
      ]
     },
     "execution_count": 46,
     "metadata": {},
     "output_type": "execute_result"
    }
   ],
   "source": [
    "df.columns"
   ]
  },
  {
   "cell_type": "code",
   "execution_count": 58,
   "metadata": {},
   "outputs": [
    {
     "data": {
      "text/plain": [
       "<Axes: >"
      ]
     },
     "execution_count": 58,
     "metadata": {},
     "output_type": "execute_result"
    },
    {
     "data": {
      "image/png": "[encoded data removed]",
      "text/plain": [
       "<Figure size 432x288 with 1 Axes>"
      ]
     },
     "metadata": {
      "needs_background": "light"
     },
     "output_type": "display_data"
    }
   ],
   "source": [
    "df['C_WTHR'].value_counts().plot(kind='bar')"
   ]
  },
  {
   "cell_type": "code",
   "execution_count": 47,
   "metadata": {},
   "outputs": [
    {
     "data": {
      "text/plain": [
       "<Axes: >"
      ]
     },
     "execution_count": 47,
     "metadata": {},
     "output_type": "execute_result"
    },
    {
     "data": {
      "image/png": "[encoded data removed]",
      "text/plain": [
       "<Figure size 432x288 with 1 Axes>"
      ]
     },
     "metadata": {
      "needs_background": "light"
     },
     "output_type": "display_data"
    }
   ],
   "source": [
    "df['P_ISEV'].value_counts().plot(kind='bar')"
   ]
  },
  {
   "cell_type": "code",
   "execution_count": 48,
   "metadata": {},
   "outputs": [
    {
     "data": {
      "text/plain": [
       "array([2, 1])"
      ]
     },
     "execution_count": 48,
     "metadata": {},
     "output_type": "execute_result"
    }
   ],
   "source": [
    "df['C_SEV'].unique()"
   ]
  },
  {
   "cell_type": "code",
   "execution_count": 49,
   "metadata": {},
   "outputs": [
    {
     "data": {
      "text/plain": [
       "array(['Male', 'Female', 'Unknown', 'Not Applicable, '], dtype=object)"
      ]
     },
     "execution_count": 49,
     "metadata": {},
     "output_type": "execute_result"
    }
   ],
   "source": [
    "df['P_SEX'].unique()"
   ]
  },
  {
   "cell_type": "code",
   "execution_count": 50,
   "metadata": {},
   "outputs": [
    {
     "data": {
      "text/plain": [
       "array(['75', '21', '34', '50', '63', '26', '20', '80', '35', '37', '45',\n",
       "       '32', '38', '60', '25', '19', '27', '43', '72', '55', '31', '76',\n",
       "       'Unknown', '51', '46', '42', '58', '59', '56', '41', '36', '48',\n",
       "       '39', '22', '52', '53', '33', '18', '61', '40', '29', '3', '73',\n",
       "       '69', '30', '44', '24', '54', '65', '47', '70', '71', '13', '23',\n",
       "       '17', '74', '15', '66', '88', '57', '49', '67', '14', '64', '28',\n",
       "       '68', '77', '62', '1', '8', '2', '11', '9', '16', '89', '85', '84',\n",
       "       '4', '6', '81', '12', '5', '7', '78', '79', '93', '86', '10', '91',\n",
       "       '90', '83', '92', '82', '87', 'Data element is not applicable',\n",
       "       '99', '98', '97', '96', '94', '95'], dtype=object)"
      ]
     },
     "execution_count": 50,
     "metadata": {},
     "output_type": "execute_result"
    }
   ],
   "source": [
    "df['P_AGE'].unique()"
   ]
  },
  {
   "cell_type": "code",
   "execution_count": 51,
   "metadata": {},
   "outputs": [
    {
     "name": "stdout",
     "output_type": "stream",
     "text": [
      "The age range and sex more likely to be associated with a collision:\n",
      "Age Range: 41-60, Sex: Male\n",
      "Collision Proportion: 29.50%\n"
     ]
    }
   ],
   "source": [
    "# What age range and which sex are more likely to be associated with a collision?\n",
    "\n",
    "import pandas as pd\n",
    "\n",
    "# Filter out rows with 'Unknown' values in 'P_SEX' and convert non-numeric 'P_AGE' values to NaN\n",
    "df = df[df['P_SEX'] != 'Unknown']\n",
    "df = df[df['P_SEX']!= 'Not Applicable, ']\n",
    "df['P_AGE'] = pd.to_numeric(df['P_AGE'], errors='coerce')\n",
    "\n",
    "# Filter rows where collision severity is either 1 or 2\n",
    "collision_df = df[df['C_SEV'].isin([1, 2])]\n",
    "\n",
    "# Define age ranges and corresponding labels\n",
    "age_ranges = [(0, 17), (18, 25), (26, 40), (41, 60), (61, 100)]\n",
    "age_range_labels = ['0-17', '18-25', '26-40', '41-60', '61+']\n",
    "\n",
    "# Calculate total collisions for each age range and sex combination\n",
    "collision_counts = collision_df.groupby(['P_SEX', pd.cut(collision_df['P_AGE'], [age[0] for age in age_ranges] + [age_ranges[-1][1]], labels=age_range_labels)]).size().unstack().fillna(0)\n",
    "\n",
    "# Calculate proportions of collisions for each age range and sex combination\n",
    "collision_proportions = collision_counts.div(collision_counts.sum(axis=1), axis=0)\n",
    "\n",
    "# Find the age range and sex with the highest collision proportion\n",
    "max_collision_proportion = collision_proportions.stack().max()\n",
    "max_collision_idx = collision_proportions.stack().idxmax()\n",
    "\n",
    "print(f\"The age range and sex more likely to be associated with a collision:\")\n",
    "print(f\"Age Range: {max_collision_idx[1]}, Sex: {max_collision_idx[0]}\")\n",
    "print(f\"Collision Proportion: {max_collision_proportion:.2%}\")"
   ]
  },
  {
   "cell_type": "code",
   "execution_count": 52,
   "metadata": {},
   "outputs": [
    {
     "data": {
      "text/html": [
       "\n",
       "            <div id=\"kkS5BP\"></div>\n",
       "            <script type=\"text/javascript\" data-lets-plot-script=\"library\">\n",
       "                if(!window.letsPlotCallQueue) {\n",
       "                    window.letsPlotCallQueue = [];\n",
       "                }; \n",
       "                window.letsPlotCall = function(f) {\n",
       "                    window.letsPlotCallQueue.push(f);\n",
       "                };\n",
       "                (function() {\n",
       "                    var script = document.createElement(\"script\");\n",
       "                    script.type = \"text/javascript\";\n",
       "                    script.src = \"https://cdn.jsdelivr.net/gh/JetBrains/lets-plot@v3.2.0/js-package/distr/lets-plot.min.js\";\n",
       "                    script.onload = function() {\n",
       "                        window.letsPlotCall = function(f) {f();};\n",
       "                        window.letsPlotCallQueue.forEach(function(f) {f();});\n",
       "                        window.letsPlotCallQueue = [];\n",
       "                        \n",
       "                    };\n",
       "                    script.onerror = function(event) {\n",
       "                        window.letsPlotCall = function(f) {};    // noop\n",
       "                        window.letsPlotCallQueue = [];\n",
       "                        var div = document.createElement(\"div\");\n",
       "                        div.style.color = 'darkred';\n",
       "                        div.textContent = 'Error loading Lets-Plot JS';\n",
       "                        document.getElementById(\"kkS5BP\").appendChild(div);\n",
       "                    };\n",
       "                    var e = document.getElementById(\"kkS5BP\");\n",
       "                    e.appendChild(script);\n",
       "                })()\n",
       "            </script>\n",
       "            "
      ]
     },
     "metadata": {},
     "output_type": "display_data"
    }
   ],
   "source": [
    "from lets_plot import *\n",
    "LetsPlot.setup_html()"
   ]
  },
  {
   "cell_type": "code",
   "execution_count": 53,
   "metadata": {},
   "outputs": [],
   "source": [
    "# Filter out rows with 'Unknown' values in 'P_SEX' and convert non-numeric 'P_AGE' values to NaN\n",
    "df = df[df['P_SEX'] != 'Unknown']\n",
    "df = df[df['P_SEX']!= 'Not Applicable, ']\n",
    "df['P_AGE'] = pd.to_numeric(df['P_AGE'], errors='coerce')\n",
    "\n",
    "# Filter rows where collision severity is either 1 or 2\n",
    "collision_df = df[df['C_SEV'].isin([1, 2])]\n",
    "\n",
    "# Define age ranges and corresponding labels\n",
    "age_ranges = [(0, 17), (18, 25), (26, 40), (41, 60), (61, 100)]\n",
    "age_range_labels = ['0-17', '18-25', '26-40', '41-60', '61+']\n",
    "\n",
    "# Categorize the ages into age range bins\n",
    "collision_df['AgeRange'] = pd.cut(collision_df['P_AGE'], [age[0] for age in age_ranges] + [age_ranges[-1][1]], labels=age_range_labels)\n",
    "\n",
    "# Calculate total collisions for each age range, sex, and collision severity combination\n",
    "collision_counts = collision_df.groupby(['AgeRange', 'P_SEX', 'C_SEV']).size().unstack().fillna(0)\n",
    "\n",
    "# Calculate proportions of collisions for each age range, sex, and collision severity combination\n",
    "collision_proportions = collision_counts.div(collision_counts.sum(axis=1), axis=0)\n",
    "\n",
    "# Create a DataFrame suitable for plotting\n",
    "plot_data = collision_proportions.reset_index()"
   ]
  },
  {
   "cell_type": "code",
   "execution_count": 54,
   "metadata": {},
   "outputs": [
    {
     "data": {
      "text/html": [
       "<div>\n",
       "<style scoped>\n",
       "    .dataframe tbody tr th:only-of-type {\n",
       "        vertical-align: middle;\n",
       "    }\n",
       "\n",
       "    .dataframe tbody tr th {\n",
       "        vertical-align: top;\n",
       "    }\n",
       "\n",
       "    .dataframe thead th {\n",
       "        text-align: right;\n",
       "    }\n",
       "</style>\n",
       "<table border=\"1\" class=\"dataframe\">\n",
       "  <thead>\n",
       "    <tr style=\"text-align: right;\">\n",
       "      <th>C_SEV</th>\n",
       "      <th>AgeRange</th>\n",
       "      <th>P_SEX</th>\n",
       "      <th>1</th>\n",
       "      <th>2</th>\n",
       "    </tr>\n",
       "  </thead>\n",
       "  <tbody>\n",
       "    <tr>\n",
       "      <th>0</th>\n",
       "      <td>0-17</td>\n",
       "      <td>Female</td>\n",
       "      <td>0.012728</td>\n",
       "      <td>0.987272</td>\n",
       "    </tr>\n",
       "    <tr>\n",
       "      <th>1</th>\n",
       "      <td>0-17</td>\n",
       "      <td>Male</td>\n",
       "      <td>0.015616</td>\n",
       "      <td>0.984384</td>\n",
       "    </tr>\n",
       "    <tr>\n",
       "      <th>2</th>\n",
       "      <td>18-25</td>\n",
       "      <td>Female</td>\n",
       "      <td>0.010286</td>\n",
       "      <td>0.989714</td>\n",
       "    </tr>\n",
       "    <tr>\n",
       "      <th>3</th>\n",
       "      <td>18-25</td>\n",
       "      <td>Male</td>\n",
       "      <td>0.018367</td>\n",
       "      <td>0.981633</td>\n",
       "    </tr>\n",
       "    <tr>\n",
       "      <th>4</th>\n",
       "      <td>26-40</td>\n",
       "      <td>Female</td>\n",
       "      <td>0.009325</td>\n",
       "      <td>0.990675</td>\n",
       "    </tr>\n",
       "  </tbody>\n",
       "</table>\n",
       "</div>"
      ],
      "text/plain": [
       "C_SEV AgeRange   P_SEX         1         2\n",
       "0         0-17  Female  0.012728  0.987272\n",
       "1         0-17    Male  0.015616  0.984384\n",
       "2        18-25  Female  0.010286  0.989714\n",
       "3        18-25    Male  0.018367  0.981633\n",
       "4        26-40  Female  0.009325  0.990675"
      ]
     },
     "execution_count": 54,
     "metadata": {},
     "output_type": "execute_result"
    }
   ],
   "source": [
    "plot_data.head()"
   ]
  },
  {
   "cell_type": "code",
   "execution_count": 55,
   "metadata": {},
   "outputs": [
    {
     "data": {
      "text/html": [
       "   <div id=\"zymVF4\"></div>\n",
       "   <script type=\"text/javascript\" data-lets-plot-script=\"plot\">\n",
       "       (function() {\n",
       "           var plotSpec={\n",
       "\"__error_message\":\"Variable not found: 'value'. Variables in data frame: ['AgeRange', 'P_SEX', '1.0', '2.0']\"\n",
       "};\n",
       "           var plotContainer = document.getElementById(\"zymVF4\");\n",
       "           window.letsPlotCall(function() {{\n",
       "               LetsPlot.buildPlotFromProcessedSpecs(plotSpec, -1, -1, plotContainer);\n",
       "           }});\n",
       "       })();    \n",
       "   </script>"
      ],
      "text/plain": [
       "<lets_plot.plot.core.PlotSpec at 0x16784aa60>"
      ]
     },
     "execution_count": 55,
     "metadata": {},
     "output_type": "execute_result"
    }
   ],
   "source": [
    "p = ggplot(plot_data, aes(x='AgeRange', y='value', fill='P_SEX')) + \\\n",
    "    geom_bar(stat='identity', position='dodge') + \\\n",
    "    facet_grid('C_SEV~.') + \\\n",
    "    labs(title='Collision Proportions by Age Range, Sex, and Collision Severity',\n",
    "         x='Age Range', y='Collision Proportion', fill='Sex') + \\\n",
    "    scale_fill_discrete(name='Sex') + \\\n",
    "    theme(legend_title=element_blank(), axis_text_x=element_text(angle=45, hjust=1))\n",
    "    \n",
    "p"
   ]
  },
  {
   "cell_type": "code",
   "execution_count": 57,
   "metadata": {},
   "outputs": [
    {
     "name": "stdout",
     "output_type": "stream",
     "text": [
      "Time of Day Most Associated with High Fatality Rate:\n",
      "Hour: 3, Fatality Rate: 2.88%\n"
     ]
    },
    {
     "data": {
      "image/png": "[encoded data removed]",
      "text/plain": [
       "<Figure size 432x288 with 1 Axes>"
      ]
     },
     "metadata": {
      "needs_background": "light"
     },
     "output_type": "display_data"
    }
   ],
   "source": [
    "# Convert 'C_HOUR' and 'P_ISEV' columns to numeric\n",
    "df['C_HOUR'] = pd.to_numeric(df['C_HOUR'], errors='coerce')\n",
    "df['P_ISEV'] = pd.to_numeric(df['P_ISEV'], errors='coerce')\n",
    "\n",
    "# Filter out non-numeric values in 'C_HOUR' and 'P_ISEV'\n",
    "df = df.dropna(subset=['C_HOUR', 'P_ISEV'])\n",
    "\n",
    "# Filter rows where 'P_ISEV' indicates fatality (3)\n",
    "fatality_df = df[df['P_ISEV'] == 3]\n",
    "\n",
    "# Group by 'C_HOUR' and calculate the fatality rate for each hour\n",
    "fatality_rate_by_hour = fatality_df.groupby('C_HOUR').size() / df.groupby('C_HOUR').size()\n",
    "\n",
    "# Plot the fatality rate by hour\n",
    "plt.bar(fatality_rate_by_hour.index, fatality_rate_by_hour.values)\n",
    "plt.xlabel('Time of Day (Hour)')\n",
    "plt.ylabel('Fatality Rate')\n",
    "plt.title('Fatality Rate by Time of Day')\n",
    "plt.xticks(fatality_rate_by_hour.index)\n",
    "\n",
    "# Find the hour with the highest fatality rate\n",
    "max_fatality_rate_hour = fatality_rate_by_hour.idxmax()\n",
    "max_fatality_rate = fatality_rate_by_hour.max()\n",
    "\n",
    "print(f\"Time of Day Most Associated with High Fatality Rate:\")\n",
    "print(f\"Hour: {max_fatality_rate_hour}, Fatality Rate: {max_fatality_rate:.2%}\")\n",
    "\n",
    "plt.show()"
   ]
  },
  {
   "cell_type": "code",
   "execution_count": 59,
   "metadata": {},
   "outputs": [
    {
     "name": "stdout",
     "output_type": "stream",
     "text": [
      "Weather Type Most Associated with High Fatality Rate:\n",
      "Weather: Unknown, Fatality Rate: 1.35%\n"
     ]
    },
    {
     "data": {
      "image/png": "[encoded data removed]",
      "text/plain": [
       "<Figure size 720x432 with 1 Axes>"
      ]
     },
     "metadata": {
      "needs_background": "light"
     },
     "output_type": "display_data"
    }
   ],
   "source": [
    "# Convert 'C_WTHR' and 'P_ISEV' columns to numeric\n",
    "df['P_ISEV'] = pd.to_numeric(df['P_ISEV'], errors='coerce')\n",
    "\n",
    "# Filter out rows where 'P_ISEV' indicates fatality (3)\n",
    "fatality_df = df[df['P_ISEV'] == 3]\n",
    "\n",
    "# Group by 'C_WTHR' and calculate the fatality rate for each weather type\n",
    "fatality_rate_by_weather = fatality_df.groupby('C_WTHR').size() / df.groupby('C_WTHR').size()\n",
    "\n",
    "# Plot the fatality rate by weather type\n",
    "plt.figure(figsize=(10, 6))\n",
    "fatality_rate_by_weather.sort_values(ascending=False).plot(kind='bar')\n",
    "plt.xlabel('Weather Type')\n",
    "plt.ylabel('Fatality Rate')\n",
    "plt.title('Fatality Rate by Weather Type')\n",
    "plt.xticks(rotation=45)\n",
    "plt.tight_layout()\n",
    "\n",
    "# Find the weather type with the highest fatality rate\n",
    "max_fatality_rate_weather = fatality_rate_by_weather.idxmax()\n",
    "max_fatality_rate = fatality_rate_by_weather.max()\n",
    "\n",
    "print(f\"Weather Type Most Associated with High Fatality Rate:\")\n",
    "print(f\"Weather: {max_fatality_rate_weather}, Fatality Rate: {max_fatality_rate:.2%}\")\n",
    "\n",
    "plt.show()"
   ]
  },
  {
   "cell_type": "code",
   "execution_count": 60,
   "metadata": {},
   "outputs": [
    {
     "name": "stdout",
     "output_type": "stream",
     "text": [
      "Safety Device Most Associated with High Fatality Rate:\n",
      "Safety Device: 10, Fatality Rate: 15.15%\n"
     ]
    },
    {
     "data": {
      "image/png": "[encoded data removed]",
      "text/plain": [
       "<Figure size 720x432 with 1 Axes>"
      ]
     },
     "metadata": {
      "needs_background": "light"
     },
     "output_type": "display_data"
    }
   ],
   "source": [
    "# Convert 'P_SAFE' and 'P_ISEV' columns to numeric\n",
    "df['P_ISEV'] = pd.to_numeric(df['P_ISEV'], errors='coerce')\n",
    "\n",
    "# Filter out rows where 'P_ISEV' indicates fatality (3)\n",
    "fatality_df = df[df['P_ISEV'] == 3]\n",
    "\n",
    "# Group by 'P_SAFE' and calculate the fatality rate for each safety device category\n",
    "fatality_rate_by_safety = fatality_df.groupby('P_SAFE').size() / df.groupby('P_SAFE').size()\n",
    "\n",
    "# Plot the fatality rate by safety device category\n",
    "plt.figure(figsize=(10, 6))\n",
    "fatality_rate_by_safety.sort_values(ascending=False).plot(kind='bar')\n",
    "plt.xlabel('Safety Device')\n",
    "plt.ylabel('Fatality Rate')\n",
    "plt.title('Fatality Rate by Safety Device')\n",
    "plt.xticks(rotation=45)\n",
    "plt.tight_layout()\n",
    "\n",
    "# Find the safety device with the highest fatality rate\n",
    "max_fatality_rate_safety = fatality_rate_by_safety.idxmax()\n",
    "max_fatality_rate = fatality_rate_by_safety.max()\n",
    "\n",
    "print(f\"Safety Device Most Associated with High Fatality Rate:\")\n",
    "print(f\"Safety Device: {max_fatality_rate_safety}, Fatality Rate: {max_fatality_rate:.2%}\")\n",
    "\n",
    "plt.show()"
   ]
  },
  {
   "cell_type": "code",
   "execution_count": null,
   "metadata": {},
   "outputs": [],
   "source": []
  }
 ],
 "metadata": {
  "kernelspec": {
   "display_name": "Python 3",
   "language": "python",
   "name": "python3"
  },
  "language_info": {
   "codemirror_mode": {
    "name": "ipython",
    "version": 3
   },
   "file_extension": ".py",
   "mimetype": "text/x-python",
   "name": "python",
   "nbconvert_exporter": "python",
   "pygments_lexer": "ipython3",
   "version": "3.9.7"
  },
  "orig_nbformat": 4
 },
 "nbformat": 4,
 "nbformat_minor": 2
}
